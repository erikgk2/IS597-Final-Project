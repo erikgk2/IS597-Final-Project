{
 "cells": [
  {
   "cell_type": "markdown",
   "source": [
    "## Read this file first!"
   ],
   "metadata": {
    "collapsed": false
   },
   "id": "48b5b7ad6e7cac93"
  },
  {
   "cell_type": "markdown",
   "source": [
    "##### The notebooks are organized in order of how they should be run.\n",
    "##### The first notebook is called 1 Creating Datasets for Train, Test, Evaluation. This notebook creates dataframes with filepaths and categories for train, test, and validation data and stores them as CSV files.\n",
    "##### The next notebook is called 2 Experimenting with Models, where the CSV files are loaded as dataframes and used to train some Keras models with different variations using just 10 epochs to see which variation is the most accurate.\n",
    "##### The third takes the combination of layers and batch size from the second notebook, and runs that combination for 50 epochs and 100 epochs, saving the trained models as a Keras file in the folder models.\n",
    "##### The fourth notebook takes the trained model as a Keras file and applies it to the test data. This data it adds a new column in the dataframe for predicted values, and also runs some analysis for accuracy and F1 scores using various Python packages."
   ],
   "metadata": {
    "collapsed": false
   },
   "id": "15814ad388481c2e"
  },
  {
   "cell_type": "code",
   "outputs": [],
   "source": [],
   "metadata": {
    "collapsed": false
   },
   "id": "484081b095a8290f"
  }
 ],
 "metadata": {
  "kernelspec": {
   "display_name": "Python 3",
   "language": "python",
   "name": "python3"
  },
  "language_info": {
   "codemirror_mode": {
    "name": "ipython",
    "version": 2
   },
   "file_extension": ".py",
   "mimetype": "text/x-python",
   "name": "python",
   "nbconvert_exporter": "python",
   "pygments_lexer": "ipython2",
   "version": "2.7.6"
  }
 },
 "nbformat": 4,
 "nbformat_minor": 5
}

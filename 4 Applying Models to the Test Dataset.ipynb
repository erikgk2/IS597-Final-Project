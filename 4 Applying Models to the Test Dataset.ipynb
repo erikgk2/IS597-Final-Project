{
 "cells": [
  {
   "cell_type": "code",
   "execution_count": 1,
   "id": "b32ad326",
   "metadata": {},
   "outputs": [
    {
     "name": "stderr",
     "output_type": "stream",
     "text": [
      "2024-05-11 03:02:18.653298: E external/local_xla/xla/stream_executor/cuda/cuda_dnn.cc:9261] Unable to register cuDNN factory: Attempting to register factory for plugin cuDNN when one has already been registered\n",
      "2024-05-11 03:02:18.653405: E external/local_xla/xla/stream_executor/cuda/cuda_fft.cc:607] Unable to register cuFFT factory: Attempting to register factory for plugin cuFFT when one has already been registered\n",
      "2024-05-11 03:02:18.654991: E external/local_xla/xla/stream_executor/cuda/cuda_blas.cc:1515] Unable to register cuBLAS factory: Attempting to register factory for plugin cuBLAS when one has already been registered\n",
      "2024-05-11 03:02:18.663671: I tensorflow/core/platform/cpu_feature_guard.cc:182] This TensorFlow binary is optimized to use available CPU instructions in performance-critical operations.\n",
      "To enable the following instructions: AVX2 AVX512F FMA, in other operations, rebuild TensorFlow with the appropriate compiler flags.\n",
      "2024-05-11 03:02:19.909064: W tensorflow/compiler/tf2tensorrt/utils/py_utils.cc:38] TF-TRT Warning: Could not find TensorRT\n"
     ]
    }
   ],
   "source": [
    "import pandas as pd\n",
    "import keras\n",
    "import tensorflow as tf\n",
    "from keras.models import Sequential\n",
    "from keras.layers import Conv2D, MaxPooling2D, Flatten, Dense, Dropout\n",
    "from keras.preprocessing.image import ImageDataGenerator\n",
    "from keras.models import load_model"
   ]
  },
  {
   "cell_type": "code",
   "execution_count": 2,
   "id": "9904ecdb",
   "metadata": {},
   "outputs": [],
   "source": [
    "test_df = pd.read_csv('data/test_df.csv')"
   ]
  },
  {
   "cell_type": "code",
   "execution_count": 3,
   "id": "7e9ffcc1",
   "metadata": {},
   "outputs": [
    {
     "name": "stdout",
     "output_type": "stream",
     "text": [
      "Found 1800 validated image filenames belonging to 4 classes.\n"
     ]
    }
   ],
   "source": [
    "pixels=64\n",
    "batch=32\n",
    "x_col = 'File_Path'\n",
    "y_col = 'Subdirectory_Code'\n",
    "class_mode = 'categorical'\n",
    "\n",
    "#only rescale, don't need to do the additional preprocessing for test\n",
    "# datagen = ImageDataGenerator(\n",
    "#     rescale=1./255)\n",
    "datagen = ImageDataGenerator(\n",
    "    rescale=1./255,\n",
    "    rotation_range=30,\n",
    "    width_shift_range=0.1,\n",
    "    height_shift_range=0.1,\n",
    "    shear_range=0.2,\n",
    "    zoom_range=0.2,\n",
    "    horizontal_flip=True,\n",
    "    vertical_flip=True,\n",
    "    fill_mode='nearest'\n",
    ")\n",
    "\n",
    "\n",
    "\n",
    "test_generator = datagen.flow_from_dataframe(\n",
    "    dataframe=test_df,\n",
    "    x_col=x_col,\n",
    "    y_col=y_col,\n",
    "    class_mode=class_mode,\n",
    "    target_size=(pixels,pixels),\n",
    "    batch_size=batch\n",
    ")"
   ]
  },
  {
   "cell_type": "code",
   "execution_count": 4,
   "id": "e2907834",
   "metadata": {},
   "outputs": [
    {
     "name": "stderr",
     "output_type": "stream",
     "text": [
      "2024-05-11 03:02:23.933048: E external/local_xla/xla/stream_executor/cuda/cuda_driver.cc:274] failed call to cuInit: CUDA_ERROR_NO_DEVICE: no CUDA-capable device is detected\n"
     ]
    }
   ],
   "source": [
    "model = load_model('models/Epochs100Pixels64Batch32V2.keras')"
   ]
  },
  {
   "cell_type": "code",
   "execution_count": 5,
   "id": "91ecdb9a",
   "metadata": {},
   "outputs": [
    {
     "name": "stdout",
     "output_type": "stream",
     "text": [
      "57/57 [==============================] - 5s 72ms/step - loss: 0.6315 - accuracy: 0.6900\n",
      "Test Loss: 0.631506621837616\n",
      "Test Accuracy: 0.6899999976158142\n"
     ]
    }
   ],
   "source": [
    "evaluation = model.evaluate(test_generator)\n",
    "loss = evaluation[0]\n",
    "accuracy = evaluation[1]\n",
    "print(\"Test Loss:\", loss)\n",
    "print(\"Test Accuracy:\", accuracy)"
   ]
  },
  {
   "cell_type": "code",
   "execution_count": 6,
   "id": "dbca664d",
   "metadata": {},
   "outputs": [
    {
     "name": "stdout",
     "output_type": "stream",
     "text": [
      "57/57 [==============================] - 4s 70ms/step\n",
      "Confusion Matrix:\n",
      "[[ 78  85 154 115]\n",
      " [ 87  85 187 117]\n",
      " [ 85  90 162 104]\n",
      " [ 93  96 140 122]]\n"
     ]
    }
   ],
   "source": [
    "from sklearn.metrics import confusion_matrix\n",
    "import numpy as np\n",
    "predictions = model.predict(test_generator)\n",
    "predicted_classes = np.argmax(predictions, axis=1)\n",
    "test_df['predicted_label'] = predicted_classes\n",
    "label_map = {'a': 0, 'b': 1, 'c': 2, 'd': 3}\n",
    "true_labels = test_df[y_col].map(label_map)\n",
    "confusion_matrix = confusion_matrix(true_labels, predicted_classes)\n",
    "print(\"Confusion Matrix:\")\n",
    "print(confusion_matrix)"
   ]
  },
  {
   "cell_type": "code",
   "execution_count": 7,
   "id": "9b79fb44",
   "metadata": {},
   "outputs": [
    {
     "data": {
      "text/html": [
       "<div>\n",
       "<style scoped>\n",
       "    .dataframe tbody tr th:only-of-type {\n",
       "        vertical-align: middle;\n",
       "    }\n",
       "\n",
       "    .dataframe tbody tr th {\n",
       "        vertical-align: top;\n",
       "    }\n",
       "\n",
       "    .dataframe thead th {\n",
       "        text-align: right;\n",
       "    }\n",
       "</style>\n",
       "<table border=\"1\" class=\"dataframe\">\n",
       "  <thead>\n",
       "    <tr style=\"text-align: right;\">\n",
       "      <th></th>\n",
       "      <th>File_Path</th>\n",
       "      <th>Subdirectory</th>\n",
       "      <th>Subdirectory_Code</th>\n",
       "      <th>predicted_label</th>\n",
       "    </tr>\n",
       "  </thead>\n",
       "  <tbody>\n",
       "    <tr>\n",
       "      <th>0</th>\n",
       "      <td>data/MildDemented/efa5cfe1-9281-4e90-a1e4-7bea...</td>\n",
       "      <td>MildDemented</td>\n",
       "      <td>c</td>\n",
       "      <td>2</td>\n",
       "    </tr>\n",
       "    <tr>\n",
       "      <th>1</th>\n",
       "      <td>data/NonDemented/8034fae9-1fa2-4bdf-96fc-12962...</td>\n",
       "      <td>NonDemented</td>\n",
       "      <td>a</td>\n",
       "      <td>3</td>\n",
       "    </tr>\n",
       "    <tr>\n",
       "      <th>2</th>\n",
       "      <td>data/MildDemented/f6b9a71b-8273-4238-b0f8-4df7...</td>\n",
       "      <td>MildDemented</td>\n",
       "      <td>c</td>\n",
       "      <td>1</td>\n",
       "    </tr>\n",
       "    <tr>\n",
       "      <th>3</th>\n",
       "      <td>data/ModerateDemented/88069014-1109-4e39-9904-...</td>\n",
       "      <td>ModerateDemented</td>\n",
       "      <td>d</td>\n",
       "      <td>3</td>\n",
       "    </tr>\n",
       "    <tr>\n",
       "      <th>4</th>\n",
       "      <td>data/VeryMildDemented/3d0802ad-d174-443c-85e8-...</td>\n",
       "      <td>VeryMildDemented</td>\n",
       "      <td>b</td>\n",
       "      <td>2</td>\n",
       "    </tr>\n",
       "    <tr>\n",
       "      <th>...</th>\n",
       "      <td>...</td>\n",
       "      <td>...</td>\n",
       "      <td>...</td>\n",
       "      <td>...</td>\n",
       "    </tr>\n",
       "    <tr>\n",
       "      <th>1795</th>\n",
       "      <td>data/VeryMildDemented/4551b189-983c-461d-b73b-...</td>\n",
       "      <td>VeryMildDemented</td>\n",
       "      <td>b</td>\n",
       "      <td>2</td>\n",
       "    </tr>\n",
       "    <tr>\n",
       "      <th>1796</th>\n",
       "      <td>data/MildDemented/dbfc8028-3012-447d-b1d6-8e63...</td>\n",
       "      <td>MildDemented</td>\n",
       "      <td>c</td>\n",
       "      <td>3</td>\n",
       "    </tr>\n",
       "    <tr>\n",
       "      <th>1797</th>\n",
       "      <td>data/ModerateDemented/a9318bec-3a89-43ff-8e95-...</td>\n",
       "      <td>ModerateDemented</td>\n",
       "      <td>d</td>\n",
       "      <td>3</td>\n",
       "    </tr>\n",
       "    <tr>\n",
       "      <th>1798</th>\n",
       "      <td>data/VeryMildDemented/cd1651b0-74ee-4bdf-bafa-...</td>\n",
       "      <td>VeryMildDemented</td>\n",
       "      <td>b</td>\n",
       "      <td>2</td>\n",
       "    </tr>\n",
       "    <tr>\n",
       "      <th>1799</th>\n",
       "      <td>data/VeryMildDemented/32 (63).jpg</td>\n",
       "      <td>VeryMildDemented</td>\n",
       "      <td>b</td>\n",
       "      <td>0</td>\n",
       "    </tr>\n",
       "  </tbody>\n",
       "</table>\n",
       "<p>1800 rows × 4 columns</p>\n",
       "</div>"
      ],
      "text/plain": [
       "                                              File_Path      Subdirectory  \\\n",
       "0     data/MildDemented/efa5cfe1-9281-4e90-a1e4-7bea...      MildDemented   \n",
       "1     data/NonDemented/8034fae9-1fa2-4bdf-96fc-12962...       NonDemented   \n",
       "2     data/MildDemented/f6b9a71b-8273-4238-b0f8-4df7...      MildDemented   \n",
       "3     data/ModerateDemented/88069014-1109-4e39-9904-...  ModerateDemented   \n",
       "4     data/VeryMildDemented/3d0802ad-d174-443c-85e8-...  VeryMildDemented   \n",
       "...                                                 ...               ...   \n",
       "1795  data/VeryMildDemented/4551b189-983c-461d-b73b-...  VeryMildDemented   \n",
       "1796  data/MildDemented/dbfc8028-3012-447d-b1d6-8e63...      MildDemented   \n",
       "1797  data/ModerateDemented/a9318bec-3a89-43ff-8e95-...  ModerateDemented   \n",
       "1798  data/VeryMildDemented/cd1651b0-74ee-4bdf-bafa-...  VeryMildDemented   \n",
       "1799                  data/VeryMildDemented/32 (63).jpg  VeryMildDemented   \n",
       "\n",
       "     Subdirectory_Code  predicted_label  \n",
       "0                    c                2  \n",
       "1                    a                3  \n",
       "2                    c                1  \n",
       "3                    d                3  \n",
       "4                    b                2  \n",
       "...                ...              ...  \n",
       "1795                 b                2  \n",
       "1796                 c                3  \n",
       "1797                 d                3  \n",
       "1798                 b                2  \n",
       "1799                 b                0  \n",
       "\n",
       "[1800 rows x 4 columns]"
      ]
     },
     "execution_count": 7,
     "metadata": {},
     "output_type": "execute_result"
    }
   ],
   "source": [
    "test_df"
   ]
  },
  {
   "cell_type": "code",
   "execution_count": 8,
   "id": "3f6774f0",
   "metadata": {},
   "outputs": [],
   "source": [
    "df0 = test_df[test_df['Subdirectory_Code'] == 'a']\n",
    "df1 = test_df[test_df['Subdirectory_Code'] == 'b']\n",
    "df2 = test_df[test_df['Subdirectory_Code'] == 'c']\n",
    "df3 = test_df[test_df['Subdirectory_Code'] == 'd']"
   ]
  },
  {
   "cell_type": "code",
   "execution_count": 9,
   "id": "14363d62",
   "metadata": {},
   "outputs": [
    {
     "data": {
      "text/plain": [
       "2    154\n",
       "3    115\n",
       "1     85\n",
       "0     78\n",
       "Name: predicted_label, dtype: int64"
      ]
     },
     "execution_count": 9,
     "metadata": {},
     "output_type": "execute_result"
    }
   ],
   "source": [
    "#0 should be the correct value for this dataframe\n",
    "\n",
    "df0['predicted_label'].value_counts()"
   ]
  },
  {
   "cell_type": "code",
   "execution_count": 10,
   "id": "6a417b96",
   "metadata": {},
   "outputs": [
    {
     "data": {
      "text/plain": [
       "2    187\n",
       "3    117\n",
       "0     87\n",
       "1     85\n",
       "Name: predicted_label, dtype: int64"
      ]
     },
     "execution_count": 10,
     "metadata": {},
     "output_type": "execute_result"
    }
   ],
   "source": [
    "#1 should be the correct value for this dataframe\n",
    "\n",
    "df1['predicted_label'].value_counts()"
   ]
  },
  {
   "cell_type": "code",
   "execution_count": 11,
   "id": "4419845a",
   "metadata": {},
   "outputs": [
    {
     "data": {
      "text/plain": [
       "2    162\n",
       "3    104\n",
       "1     90\n",
       "0     85\n",
       "Name: predicted_label, dtype: int64"
      ]
     },
     "execution_count": 11,
     "metadata": {},
     "output_type": "execute_result"
    }
   ],
   "source": [
    "#2 should be the correct value for this dataframe\n",
    "\n",
    "df2['predicted_label'].value_counts()"
   ]
  },
  {
   "cell_type": "code",
   "execution_count": 12,
   "id": "775631d4",
   "metadata": {},
   "outputs": [
    {
     "data": {
      "text/plain": [
       "2    140\n",
       "3    122\n",
       "1     96\n",
       "0     93\n",
       "Name: predicted_label, dtype: int64"
      ]
     },
     "execution_count": 12,
     "metadata": {},
     "output_type": "execute_result"
    }
   ],
   "source": [
    "#3 should be the correct value for this dataframe\n",
    "\n",
    "df3['predicted_label'].value_counts()"
   ]
  },
  {
   "cell_type": "code",
   "execution_count": 13,
   "id": "b9348fb0",
   "metadata": {},
   "outputs": [
    {
     "name": "stdout",
     "output_type": "stream",
     "text": [
      "Class 0: Precision=0.22740524781341107, Recall=0.18055555555555555, F1-score=0.20129032258064516\n",
      "Class 1: Precision=0.23876404494382023, Recall=0.17857142857142858, F1-score=0.20432692307692307\n",
      "Class 2: Precision=0.25194401244167963, Recall=0.3673469387755102, F1-score=0.2988929889298893\n",
      "Class 3: Precision=0.2663755458515284, Recall=0.270509977827051, F1-score=0.2684268426842684\n"
     ]
    }
   ],
   "source": [
    "from sklearn.metrics import precision_score, recall_score, f1_score\n",
    "\n",
    "precision = precision_score(true_labels, predicted_classes, average=None)\n",
    "recall = recall_score(true_labels, predicted_classes, average=None)\n",
    "f1 = f1_score(true_labels, predicted_classes, average=None)\n",
    "\n",
    "for i in range(len(precision)):\n",
    "    print(f\"Class {i}: Precision={precision[i]}, Recall={recall[i]}, F1-score={f1[i]}\")"
   ]
  },
  {
   "cell_type": "code",
   "execution_count": null,
   "id": "45ced5ba",
   "metadata": {},
   "outputs": [],
   "source": []
  }
 ],
 "metadata": {
  "kernelspec": {
   "display_name": "conda_tensorflow2_p310",
   "language": "python",
   "name": "conda_tensorflow2_p310"
  },
  "language_info": {
   "codemirror_mode": {
    "name": "ipython",
    "version": 3
   },
   "file_extension": ".py",
   "mimetype": "text/x-python",
   "name": "python",
   "nbconvert_exporter": "python",
   "pygments_lexer": "ipython3",
   "version": "3.10.14"
  }
 },
 "nbformat": 4,
 "nbformat_minor": 5
}

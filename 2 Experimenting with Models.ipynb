{
 "cells": [
  {
   "cell_type": "code",
   "execution_count": 1,
   "id": "fa8495fe",
   "metadata": {},
   "outputs": [
    {
     "name": "stderr",
     "output_type": "stream",
     "text": [
      "2024-05-09 23:44:25.614266: E external/local_xla/xla/stream_executor/cuda/cuda_dnn.cc:9261] Unable to register cuDNN factory: Attempting to register factory for plugin cuDNN when one has already been registered\n",
      "2024-05-09 23:44:25.614320: E external/local_xla/xla/stream_executor/cuda/cuda_fft.cc:607] Unable to register cuFFT factory: Attempting to register factory for plugin cuFFT when one has already been registered\n",
      "2024-05-09 23:44:25.618088: E external/local_xla/xla/stream_executor/cuda/cuda_blas.cc:1515] Unable to register cuBLAS factory: Attempting to register factory for plugin cuBLAS when one has already been registered\n",
      "2024-05-09 23:44:25.632672: I tensorflow/core/platform/cpu_feature_guard.cc:182] This TensorFlow binary is optimized to use available CPU instructions in performance-critical operations.\n",
      "To enable the following instructions: AVX2 AVX512F FMA, in other operations, rebuild TensorFlow with the appropriate compiler flags.\n",
      "2024-05-09 23:44:26.887180: W tensorflow/compiler/tf2tensorrt/utils/py_utils.cc:38] TF-TRT Warning: Could not find TensorRT\n"
     ]
    }
   ],
   "source": [
    "import os\n",
    "import pandas as pd\n",
    "from keras.preprocessing.image import ImageDataGenerator"
   ]
  },
  {
   "cell_type": "code",
   "execution_count": 2,
   "id": "0770a9d6",
   "metadata": {},
   "outputs": [],
   "source": [
    "train_df = pd.read_csv('data/train_df.csv')\n",
    "val_df = pd.read_csv('data/val_df.csv')"
   ]
  },
  {
   "cell_type": "code",
   "execution_count": 3,
   "id": "7578eea4",
   "metadata": {},
   "outputs": [
    {
     "name": "stdout",
     "output_type": "stream",
     "text": [
      "Found 12600 validated image filenames belonging to 4 classes.\n",
      "Found 3600 validated image filenames belonging to 4 classes.\n"
     ]
    }
   ],
   "source": [
    "#setting the infoformation that train_generator, test_generator, and the model will use so it is consistent\n",
    "pixels=64\n",
    "batch=128\n",
    "x_col = 'File_Path'\n",
    "y_col = 'Subdirectory_Code'\n",
    "class_mode = 'categorical'\n",
    "\n",
    "datagen = ImageDataGenerator(\n",
    "    rescale=1./255,\n",
    "    rotation_range=30,\n",
    "    width_shift_range=0.1,\n",
    "    height_shift_range=0.1,\n",
    "    shear_range=0.2,\n",
    "    zoom_range=0.2,\n",
    "    horizontal_flip=True,\n",
    "    vertical_flip=True,\n",
    "    fill_mode='nearest'\n",
    ")\n",
    "\n",
    "train_generator = datagen.flow_from_dataframe(\n",
    "    dataframe=train_df,\n",
    "    x_col=x_col,\n",
    "    y_col=y_col,\n",
    "    class_mode=class_mode,\n",
    "    target_size=(pixels,pixels),\n",
    "    batch_size=batch\n",
    ")\n",
    "\n",
    "validation_generator = datagen.flow_from_dataframe(\n",
    "    dataframe=val_df,\n",
    "    x_col=x_col, \n",
    "    y_col=y_col, \n",
    "    class_mode=class_mode, \n",
    "    target_size=(pixels,pixels), \n",
    "    batch_size=batch\n",
    ")"
   ]
  },
  {
   "cell_type": "code",
   "execution_count": 4,
   "id": "0e3fdf33",
   "metadata": {},
   "outputs": [
    {
     "name": "stderr",
     "output_type": "stream",
     "text": [
      "2024-05-09 23:44:30.917194: E external/local_xla/xla/stream_executor/cuda/cuda_driver.cc:274] failed call to cuInit: CUDA_ERROR_NO_DEVICE: no CUDA-capable device is detected\n"
     ]
    },
    {
     "name": "stdout",
     "output_type": "stream",
     "text": [
      "Epoch 1/10\n",
      "99/99 [==============================] - 53s 527ms/step - loss: 1.3594 - accuracy: 0.3078 - val_loss: 1.2857 - val_accuracy: 0.3692\n",
      "Epoch 2/10\n",
      "99/99 [==============================] - 53s 537ms/step - loss: 1.2578 - accuracy: 0.3957 - val_loss: 1.2448 - val_accuracy: 0.3819\n",
      "Epoch 3/10\n",
      "99/99 [==============================] - 53s 529ms/step - loss: 1.2150 - accuracy: 0.4262 - val_loss: 1.1563 - val_accuracy: 0.4722\n",
      "Epoch 4/10\n",
      "99/99 [==============================] - 53s 530ms/step - loss: 1.1544 - accuracy: 0.4657 - val_loss: 1.0905 - val_accuracy: 0.4972\n",
      "Epoch 5/10\n",
      "99/99 [==============================] - 55s 557ms/step - loss: 1.1122 - accuracy: 0.4916 - val_loss: 1.0547 - val_accuracy: 0.5217\n",
      "Epoch 6/10\n",
      "99/99 [==============================] - 53s 535ms/step - loss: 1.0633 - accuracy: 0.5145 - val_loss: 1.0170 - val_accuracy: 0.5533\n",
      "Epoch 7/10\n",
      "99/99 [==============================] - 53s 530ms/step - loss: 1.0073 - accuracy: 0.5436 - val_loss: 1.0072 - val_accuracy: 0.5450\n",
      "Epoch 8/10\n",
      "99/99 [==============================] - 53s 530ms/step - loss: 0.9924 - accuracy: 0.5500 - val_loss: 0.9663 - val_accuracy: 0.5575\n",
      "Epoch 9/10\n",
      "99/99 [==============================] - 56s 558ms/step - loss: 0.9743 - accuracy: 0.5569 - val_loss: 0.9886 - val_accuracy: 0.5442\n",
      "Epoch 10/10\n",
      "99/99 [==============================] - 52s 525ms/step - loss: 0.9471 - accuracy: 0.5713 - val_loss: 0.9144 - val_accuracy: 0.5814\n"
     ]
    },
    {
     "data": {
      "text/plain": [
       "<keras.src.callbacks.History at 0x7fb035fdb2b0>"
      ]
     },
     "execution_count": 4,
     "metadata": {},
     "output_type": "execute_result"
    }
   ],
   "source": [
    "#set number of epochs\n",
    "epochs=10\n",
    "#set unique identifier for saving the model this will create\n",
    "unique_identifier = 'V1'\n",
    "#set up the model with the various layers we will be using\n",
    "from keras.models import Sequential\n",
    "from keras.layers import Conv2D, MaxPooling2D, Flatten, Dense, Dropout\n",
    "model = Sequential()\n",
    "model.add(Conv2D(32, (3, 3), activation='relu', input_shape=(pixels, pixels, 3)))\n",
    "model.add(MaxPooling2D((2, 2)))\n",
    "model.add(Conv2D(64, (3, 3), activation='relu'))\n",
    "model.add(MaxPooling2D((2, 2)))\n",
    "model.add(Conv2D(64, (3, 3), activation='relu'))\n",
    "model.add(Flatten())\n",
    "model.add(Dense(64, activation='relu'))\n",
    "model.add(Dropout(0.3)) \n",
    "model.add(Dense(4, activation='softmax'))\n",
    "\n",
    "model.compile(optimizer='adam', loss='categorical_crossentropy', metrics=['accuracy'])\n",
    "\n",
    "model.fit(\n",
    "    train_generator,\n",
    "    epochs=epochs,\n",
    "    validation_data=validation_generator)"
   ]
  },
  {
   "cell_type": "code",
   "execution_count": 5,
   "id": "7c4f15f1",
   "metadata": {},
   "outputs": [],
   "source": [
    "#save the model to the models/ folder\n",
    "models_path = 'models/'\n",
    "model_name = 'Epochs' + str(epochs) + 'Pixels' + str(pixels) + 'Batch' + str(batch) + (unique_identifier) + '.keras'\n",
    "\n",
    "model.save(models_path + model_name)"
   ]
  },
  {
   "cell_type": "code",
   "execution_count": 6,
   "id": "66d626f0",
   "metadata": {},
   "outputs": [
    {
     "name": "stdout",
     "output_type": "stream",
     "text": [
      "Epoch 1/10\n",
      "99/99 [==============================] - 52s 515ms/step - loss: 1.3791 - accuracy: 0.2760 - val_loss: 1.3290 - val_accuracy: 0.3767\n",
      "Epoch 2/10\n",
      "99/99 [==============================] - 53s 529ms/step - loss: 1.2636 - accuracy: 0.3957 - val_loss: 1.2107 - val_accuracy: 0.4314\n",
      "Epoch 3/10\n",
      "99/99 [==============================] - 52s 520ms/step - loss: 1.1958 - accuracy: 0.4384 - val_loss: 1.1647 - val_accuracy: 0.4661\n",
      "Epoch 4/10\n",
      "99/99 [==============================] - 51s 509ms/step - loss: 1.1416 - accuracy: 0.4726 - val_loss: 1.0605 - val_accuracy: 0.5231\n",
      "Epoch 5/10\n",
      "99/99 [==============================] - 52s 524ms/step - loss: 1.0764 - accuracy: 0.5140 - val_loss: 1.0227 - val_accuracy: 0.5261\n",
      "Epoch 6/10\n",
      "99/99 [==============================] - 50s 506ms/step - loss: 1.0396 - accuracy: 0.5356 - val_loss: 1.0223 - val_accuracy: 0.5453\n",
      "Epoch 7/10\n",
      "99/99 [==============================] - 54s 540ms/step - loss: 0.9969 - accuracy: 0.5490 - val_loss: 0.9585 - val_accuracy: 0.5664\n",
      "Epoch 8/10\n",
      "99/99 [==============================] - 58s 590ms/step - loss: 0.9719 - accuracy: 0.5596 - val_loss: 1.0667 - val_accuracy: 0.5247\n",
      "Epoch 9/10\n",
      "99/99 [==============================] - 61s 617ms/step - loss: 0.9412 - accuracy: 0.5726 - val_loss: 0.9095 - val_accuracy: 0.5936\n",
      "Epoch 10/10\n",
      "99/99 [==============================] - 57s 578ms/step - loss: 0.9380 - accuracy: 0.5789 - val_loss: 0.9130 - val_accuracy: 0.5842\n"
     ]
    },
    {
     "data": {
      "text/plain": [
       "<keras.src.callbacks.History at 0x7fb0017e3a60>"
      ]
     },
     "execution_count": 6,
     "metadata": {},
     "output_type": "execute_result"
    }
   ],
   "source": [
    "#set number of epochs\n",
    "epochs=10\n",
    "#set unique identifier for saving the model this will create\n",
    "unique_identifier = 'V2'\n",
    "#set up the model with the various layers we will be using\n",
    "from keras.models import Sequential\n",
    "from keras.layers import Conv2D, MaxPooling2D, Flatten, Dense, Dropout\n",
    "model = Sequential()\n",
    "model.add(Conv2D(32, (3, 3), activation='relu', input_shape=(pixels, pixels, 3)))\n",
    "model.add(MaxPooling2D((2, 2)))\n",
    "model.add(Conv2D(64, (3, 3), activation='relu'))\n",
    "model.add(MaxPooling2D((2, 2)))\n",
    "#changing value of conv2d layer\n",
    "model.add(Conv2D(32, (3, 3), activation='relu'))\n",
    "model.add(Flatten())\n",
    "model.add(Dense(64, activation='relu'))\n",
    "model.add(Dropout(0.3)) \n",
    "model.add(Dense(4, activation='softmax'))\n",
    "\n",
    "model.compile(optimizer='adam', loss='categorical_crossentropy', metrics=['accuracy'])\n",
    "\n",
    "model.fit(\n",
    "    train_generator,\n",
    "    epochs=epochs,\n",
    "    validation_data=validation_generator)"
   ]
  },
  {
   "cell_type": "code",
   "execution_count": 7,
   "id": "3d146c5b",
   "metadata": {},
   "outputs": [],
   "source": [
    "#save the model to the models/ folder\n",
    "models_path = 'models/'\n",
    "model_name = 'Epochs' + str(epochs) + 'Pixels' + str(pixels) + 'Batch' + str(batch) + (unique_identifier) + '.keras'\n",
    "\n",
    "model.save(models_path + model_name)"
   ]
  },
  {
   "cell_type": "code",
   "execution_count": 8,
   "id": "e85f4507",
   "metadata": {},
   "outputs": [
    {
     "name": "stdout",
     "output_type": "stream",
     "text": [
      "Epoch 1/10\n",
      "99/99 [==============================] - 62s 619ms/step - loss: 1.3843 - accuracy: 0.2963 - val_loss: 1.2966 - val_accuracy: 0.3647\n",
      "Epoch 2/10\n",
      "99/99 [==============================] - 59s 600ms/step - loss: 1.2744 - accuracy: 0.3848 - val_loss: 1.2592 - val_accuracy: 0.3919\n",
      "Epoch 3/10\n",
      "99/99 [==============================] - 59s 592ms/step - loss: 1.2445 - accuracy: 0.4034 - val_loss: 1.1988 - val_accuracy: 0.4339\n",
      "Epoch 4/10\n",
      "99/99 [==============================] - 57s 578ms/step - loss: 1.2118 - accuracy: 0.4270 - val_loss: 1.1719 - val_accuracy: 0.4358\n",
      "Epoch 5/10\n",
      "99/99 [==============================] - 59s 597ms/step - loss: 1.2140 - accuracy: 0.4279 - val_loss: 1.1710 - val_accuracy: 0.4567\n",
      "Epoch 6/10\n",
      "99/99 [==============================] - 54s 539ms/step - loss: 1.1823 - accuracy: 0.4488 - val_loss: 1.1383 - val_accuracy: 0.4792\n",
      "Epoch 7/10\n",
      "99/99 [==============================] - 54s 546ms/step - loss: 1.1664 - accuracy: 0.4606 - val_loss: 1.1169 - val_accuracy: 0.4964\n",
      "Epoch 8/10\n",
      "99/99 [==============================] - 55s 557ms/step - loss: 1.1429 - accuracy: 0.4794 - val_loss: 1.0923 - val_accuracy: 0.5150\n",
      "Epoch 9/10\n",
      "99/99 [==============================] - 54s 539ms/step - loss: 1.1196 - accuracy: 0.4906 - val_loss: 1.0666 - val_accuracy: 0.5175\n",
      "Epoch 10/10\n",
      "99/99 [==============================] - 54s 540ms/step - loss: 1.1114 - accuracy: 0.4872 - val_loss: 1.0730 - val_accuracy: 0.5272\n"
     ]
    },
    {
     "data": {
      "text/plain": [
       "<keras.src.callbacks.History at 0x7fb0220f5300>"
      ]
     },
     "execution_count": 8,
     "metadata": {},
     "output_type": "execute_result"
    }
   ],
   "source": [
    "#set number of epochs\n",
    "epochs=10\n",
    "#set unique identifier for saving the model this will create\n",
    "unique_identifier = 'V3'\n",
    "#set up the model with the various layers we will be using\n",
    "from keras.models import Sequential\n",
    "from keras.layers import Conv2D, MaxPooling2D, Flatten, Dense, Dropout\n",
    "model = Sequential()\n",
    "model.add(Conv2D(32, (3, 3), activation='relu', input_shape=(pixels, pixels, 3)))\n",
    "model.add(MaxPooling2D((2, 2)))\n",
    "#removed two layers to see the change on the models accuracy\n",
    "model.add(Conv2D(64, (3, 3), activation='relu'))\n",
    "model.add(Flatten())\n",
    "model.add(Dense(64, activation='relu'))\n",
    "model.add(Dropout(0.3)) \n",
    "model.add(Dense(4, activation='softmax'))\n",
    "\n",
    "model.compile(optimizer='adam', loss='categorical_crossentropy', metrics=['accuracy'])\n",
    "\n",
    "model.fit(\n",
    "    train_generator,\n",
    "    epochs=epochs,\n",
    "    validation_data=validation_generator)"
   ]
  },
  {
   "cell_type": "code",
   "execution_count": 9,
   "id": "501ca86b",
   "metadata": {},
   "outputs": [],
   "source": [
    "#save the model to the models/ folder\n",
    "models_path = 'models/'\n",
    "model_name = 'Epochs' + str(epochs) + 'Pixels' + str(pixels) + 'Batch' + str(batch) + (unique_identifier) + '.keras'\n",
    "\n",
    "model.save(models_path + model_name)"
   ]
  },
  {
   "cell_type": "code",
   "execution_count": 10,
   "id": "eec245b0",
   "metadata": {},
   "outputs": [],
   "source": [
    "#the first model was the most accurate, and there was not a big difference in accuracy or loss between the first and second.\n",
    "#Interestingly, the model with the removed layers took the longest."
   ]
  },
  {
   "cell_type": "code",
   "execution_count": 13,
   "id": "29b1a403",
   "metadata": {},
   "outputs": [
    {
     "name": "stdout",
     "output_type": "stream",
     "text": [
      "Found 12600 validated image filenames belonging to 4 classes.\n",
      "Found 3600 validated image filenames belonging to 4 classes.\n"
     ]
    }
   ],
   "source": [
    "#setting the infoformation that train_generator, test_generator, and the model will use so it is consistent\n",
    "pixels=64\n",
    "batch=64\n",
    "x_col = 'File_Path'\n",
    "y_col = 'Subdirectory_Code'\n",
    "class_mode = 'categorical'\n",
    "\n",
    "datagen = ImageDataGenerator(\n",
    "    rescale=1./255,\n",
    "    rotation_range=30,\n",
    "    width_shift_range=0.1,\n",
    "    height_shift_range=0.1,\n",
    "    shear_range=0.2,\n",
    "    zoom_range=0.2,\n",
    "    horizontal_flip=True,\n",
    "    vertical_flip=True,\n",
    "    fill_mode='nearest'\n",
    ")\n",
    "\n",
    "train_generator = datagen.flow_from_dataframe(\n",
    "    dataframe=train_df,\n",
    "    x_col=x_col,\n",
    "    y_col=y_col,\n",
    "    class_mode=class_mode,\n",
    "    target_size=(pixels,pixels),\n",
    "    batch_size=batch\n",
    ")\n",
    "\n",
    "validation_generator = datagen.flow_from_dataframe(\n",
    "    dataframe=val_df,\n",
    "    x_col=x_col, \n",
    "    y_col=y_col, \n",
    "    class_mode=class_mode, \n",
    "    target_size=(pixels,pixels), \n",
    "    batch_size=batch\n",
    ")"
   ]
  },
  {
   "cell_type": "code",
   "execution_count": 14,
   "id": "b1a15f0b",
   "metadata": {},
   "outputs": [
    {
     "name": "stdout",
     "output_type": "stream",
     "text": [
      "Epoch 1/10\n",
      "197/197 [==============================] - 57s 282ms/step - loss: 1.3149 - accuracy: 0.3467 - val_loss: 1.2431 - val_accuracy: 0.4094\n",
      "Epoch 2/10\n",
      "197/197 [==============================] - 59s 298ms/step - loss: 1.2262 - accuracy: 0.4158 - val_loss: 1.1935 - val_accuracy: 0.4400\n",
      "Epoch 3/10\n",
      "197/197 [==============================] - 56s 285ms/step - loss: 1.1677 - accuracy: 0.4627 - val_loss: 1.1068 - val_accuracy: 0.5022\n",
      "Epoch 4/10\n",
      "197/197 [==============================] - 56s 285ms/step - loss: 1.1143 - accuracy: 0.4929 - val_loss: 1.0937 - val_accuracy: 0.5167\n",
      "Epoch 5/10\n",
      "197/197 [==============================] - 58s 296ms/step - loss: 1.0714 - accuracy: 0.5183 - val_loss: 1.0166 - val_accuracy: 0.5533\n",
      "Epoch 6/10\n",
      "197/197 [==============================] - 57s 287ms/step - loss: 1.0219 - accuracy: 0.5400 - val_loss: 1.0207 - val_accuracy: 0.5303\n",
      "Epoch 7/10\n",
      "197/197 [==============================] - 55s 279ms/step - loss: 0.9868 - accuracy: 0.5536 - val_loss: 0.9470 - val_accuracy: 0.5736\n",
      "Epoch 8/10\n",
      "197/197 [==============================] - 55s 278ms/step - loss: 0.9581 - accuracy: 0.5659 - val_loss: 0.9385 - val_accuracy: 0.5800\n",
      "Epoch 9/10\n",
      "197/197 [==============================] - 59s 298ms/step - loss: 0.9220 - accuracy: 0.5822 - val_loss: 0.9114 - val_accuracy: 0.5936\n",
      "Epoch 10/10\n",
      "197/197 [==============================] - 54s 276ms/step - loss: 0.9295 - accuracy: 0.5806 - val_loss: 0.9142 - val_accuracy: 0.5864\n"
     ]
    },
    {
     "data": {
      "text/plain": [
       "<keras.src.callbacks.History at 0x7fb0205f78e0>"
      ]
     },
     "execution_count": 14,
     "metadata": {},
     "output_type": "execute_result"
    }
   ],
   "source": [
    "#set number of epochs\n",
    "epochs=10\n",
    "#set unique identifier for saving the model this will create\n",
    "unique_identifier = 'V2'\n",
    "#set up the model with the various layers we will be using\n",
    "from keras.models import Sequential\n",
    "from keras.layers import Conv2D, MaxPooling2D, Flatten, Dense, Dropout\n",
    "model = Sequential()\n",
    "model.add(Conv2D(32, (3, 3), activation='relu', input_shape=(pixels, pixels, 3)))\n",
    "model.add(MaxPooling2D((2, 2)))\n",
    "model.add(Conv2D(64, (3, 3), activation='relu'))\n",
    "model.add(MaxPooling2D((2, 2)))\n",
    "#changing value of conv2d layer\n",
    "model.add(Conv2D(32, (3, 3), activation='relu'))\n",
    "model.add(Flatten())\n",
    "model.add(Dense(64, activation='relu'))\n",
    "model.add(Dropout(0.3)) \n",
    "model.add(Dense(4, activation='softmax'))\n",
    "\n",
    "model.compile(optimizer='adam', loss='categorical_crossentropy', metrics=['accuracy'])\n",
    "\n",
    "model.fit(\n",
    "    train_generator,\n",
    "    epochs=epochs,\n",
    "    validation_data=validation_generator)"
   ]
  },
  {
   "cell_type": "code",
   "execution_count": 15,
   "id": "080ef90f",
   "metadata": {},
   "outputs": [],
   "source": [
    "#save the model to the models/ folder\n",
    "models_path = 'models/'\n",
    "model_name = 'Epochs' + str(epochs) + 'Pixels' + str(pixels) + 'Batch' + str(batch) + (unique_identifier) + '.keras'\n",
    "\n",
    "model.save(models_path + model_name)"
   ]
  },
  {
   "cell_type": "code",
   "execution_count": 16,
   "id": "75c027bc",
   "metadata": {},
   "outputs": [
    {
     "name": "stdout",
     "output_type": "stream",
     "text": [
      "Found 12600 validated image filenames belonging to 4 classes.\n",
      "Found 3600 validated image filenames belonging to 4 classes.\n"
     ]
    }
   ],
   "source": [
    "#setting the infoformation that train_generator, test_generator, and the model will use so it is consistent\n",
    "pixels=64\n",
    "batch=32\n",
    "x_col = 'File_Path'\n",
    "y_col = 'Subdirectory_Code'\n",
    "class_mode = 'categorical'\n",
    "\n",
    "datagen = ImageDataGenerator(\n",
    "    rescale=1./255,\n",
    "    rotation_range=30,\n",
    "    width_shift_range=0.1,\n",
    "    height_shift_range=0.1,\n",
    "    shear_range=0.2,\n",
    "    zoom_range=0.2,\n",
    "    horizontal_flip=True,\n",
    "    vertical_flip=True,\n",
    "    fill_mode='nearest'\n",
    ")\n",
    "\n",
    "train_generator = datagen.flow_from_dataframe(\n",
    "    dataframe=train_df,\n",
    "    x_col=x_col,\n",
    "    y_col=y_col,\n",
    "    class_mode=class_mode,\n",
    "    target_size=(pixels,pixels),\n",
    "    batch_size=batch\n",
    ")\n",
    "\n",
    "validation_generator = datagen.flow_from_dataframe(\n",
    "    dataframe=val_df,\n",
    "    x_col=x_col, \n",
    "    y_col=y_col, \n",
    "    class_mode=class_mode, \n",
    "    target_size=(pixels,pixels), \n",
    "    batch_size=batch\n",
    ")"
   ]
  },
  {
   "cell_type": "code",
   "execution_count": 17,
   "id": "60f4eb0a",
   "metadata": {},
   "outputs": [
    {
     "name": "stdout",
     "output_type": "stream",
     "text": [
      "Epoch 1/10\n",
      "394/394 [==============================] - 61s 151ms/step - loss: 1.3340 - accuracy: 0.3264 - val_loss: 1.2633 - val_accuracy: 0.4267\n",
      "Epoch 2/10\n",
      "394/394 [==============================] - 58s 146ms/step - loss: 1.2193 - accuracy: 0.4271 - val_loss: 1.1445 - val_accuracy: 0.4789\n",
      "Epoch 3/10\n",
      "394/394 [==============================] - 58s 147ms/step - loss: 1.1513 - accuracy: 0.4746 - val_loss: 1.0917 - val_accuracy: 0.5111\n",
      "Epoch 4/10\n",
      "394/394 [==============================] - 57s 144ms/step - loss: 1.0845 - accuracy: 0.5125 - val_loss: 1.1522 - val_accuracy: 0.4872\n",
      "Epoch 5/10\n",
      "394/394 [==============================] - 58s 147ms/step - loss: 1.0400 - accuracy: 0.5279 - val_loss: 1.0075 - val_accuracy: 0.5461\n",
      "Epoch 6/10\n",
      "394/394 [==============================] - 57s 144ms/step - loss: 0.9993 - accuracy: 0.5513 - val_loss: 0.9568 - val_accuracy: 0.5639\n",
      "Epoch 7/10\n",
      "394/394 [==============================] - 57s 144ms/step - loss: 0.9812 - accuracy: 0.5551 - val_loss: 0.9312 - val_accuracy: 0.5825\n",
      "Epoch 8/10\n",
      "394/394 [==============================] - 57s 144ms/step - loss: 0.9520 - accuracy: 0.5725 - val_loss: 0.9411 - val_accuracy: 0.5811\n",
      "Epoch 9/10\n",
      "394/394 [==============================] - 58s 148ms/step - loss: 0.9270 - accuracy: 0.5803 - val_loss: 0.8769 - val_accuracy: 0.5994\n",
      "Epoch 10/10\n",
      "394/394 [==============================] - 57s 143ms/step - loss: 0.9087 - accuracy: 0.5832 - val_loss: 0.8707 - val_accuracy: 0.5986\n"
     ]
    },
    {
     "data": {
      "text/plain": [
       "<keras.src.callbacks.History at 0x7fb0002afa00>"
      ]
     },
     "execution_count": 17,
     "metadata": {},
     "output_type": "execute_result"
    }
   ],
   "source": [
    "#set number of epochs\n",
    "epochs=10\n",
    "#set unique identifier for saving the model this will create\n",
    "unique_identifier = 'V2'\n",
    "#set up the model with the various layers we will be using\n",
    "from keras.models import Sequential\n",
    "from keras.layers import Conv2D, MaxPooling2D, Flatten, Dense, Dropout\n",
    "model = Sequential()\n",
    "model.add(Conv2D(32, (3, 3), activation='relu', input_shape=(pixels, pixels, 3)))\n",
    "model.add(MaxPooling2D((2, 2)))\n",
    "model.add(Conv2D(64, (3, 3), activation='relu'))\n",
    "model.add(MaxPooling2D((2, 2)))\n",
    "#changing value of conv2d layer\n",
    "model.add(Conv2D(32, (3, 3), activation='relu'))\n",
    "model.add(Flatten())\n",
    "model.add(Dense(64, activation='relu'))\n",
    "model.add(Dropout(0.3)) \n",
    "model.add(Dense(4, activation='softmax'))\n",
    "\n",
    "model.compile(optimizer='adam', loss='categorical_crossentropy', metrics=['accuracy'])\n",
    "\n",
    "model.fit(\n",
    "    train_generator,\n",
    "    epochs=epochs,\n",
    "    validation_data=validation_generator)"
   ]
  },
  {
   "cell_type": "code",
   "execution_count": 18,
   "id": "9666794c",
   "metadata": {},
   "outputs": [],
   "source": [
    "#save the model to the models/ folder\n",
    "models_path = 'models/'\n",
    "model_name = 'Epochs' + str(epochs) + 'Pixels' + str(pixels) + 'Batch' + str(batch) + (unique_identifier) + '.keras'\n",
    "\n",
    "model.save(models_path + model_name)"
   ]
  },
  {
   "cell_type": "code",
   "execution_count": null,
   "id": "2ac7738e",
   "metadata": {},
   "outputs": [],
   "source": [
    "#smaller batch size with this combo of layers seems to be the most accurate"
   ]
  },
  {
   "cell_type": "code",
   "execution_count": null,
   "id": "9f2ff5ce",
   "metadata": {},
   "outputs": [],
   "source": []
  }
 ],
 "metadata": {
  "kernelspec": {
   "display_name": "conda_tensorflow2_p310",
   "language": "python",
   "name": "conda_tensorflow2_p310"
  },
  "language_info": {
   "codemirror_mode": {
    "name": "ipython",
    "version": 3
   },
   "file_extension": ".py",
   "mimetype": "text/x-python",
   "name": "python",
   "nbconvert_exporter": "python",
   "pygments_lexer": "ipython3",
   "version": "3.10.14"
  }
 },
 "nbformat": 4,
 "nbformat_minor": 5
}
